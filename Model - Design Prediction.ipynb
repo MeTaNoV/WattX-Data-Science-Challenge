{
 "cells": [
  {
   "cell_type": "code",
   "execution_count": 1,
   "metadata": {},
   "outputs": [],
   "source": [
    "import os\n",
    "import math\n",
    "import ast\n",
    "\n",
    "import numpy as np\n",
    "import pandas as pd\n",
    "\n",
    "from sklearn.model_selection import train_test_split\n",
    "\n",
    "import tensorflow as tf\n",
    "\n",
    "tf.logging.set_verbosity(tf.logging.INFO)"
   ]
  },
  {
   "cell_type": "code",
   "execution_count": 2,
   "metadata": {},
   "outputs": [],
   "source": [
    "BATCH_SIZE = 96*2\n",
    "TRAIN_EPOCHS = 200\n",
    "\n",
    "PATH_DATA_TRAIN = 'data/processed/train.csv'\n",
    "PATH_DATA_TEST = 'data/processed/test.csv'"
   ]
  },
  {
   "cell_type": "code",
   "execution_count": 3,
   "metadata": {},
   "outputs": [],
   "source": [
    "dtypes = {'Day': 'category', 'DayOfWeek': 'category', 'Hour': 'category', 'device': 'category', 'activated': 'category'}\n",
    "\n",
    "df_train = pd.read_csv('data/processed/train.csv', dtype=dtypes)\n",
    "df_test = pd.read_csv('data/processed/test.csv', dtype=dtypes)"
   ]
  },
  {
   "cell_type": "markdown",
   "metadata": {},
   "source": [
    "We build our input functions, which are responsible to feed our models with some inputs. One is dedicated to feed the training and validation phase, the other is used for the predictions."
   ]
  },
  {
   "cell_type": "code",
   "execution_count": 4,
   "metadata": {},
   "outputs": [],
   "source": [
    "feature_names = ['Day', 'DayOfWeek', 'Hour', 'device']\n",
    "csv_defaults = [['1'],['1'],['0'],['device_1'],['False']]\n",
    "\n",
    "def input_fn_train(file_path, repeat_count=1):\n",
    "    def decode_csv(line):\n",
    "        \"\"\"Convert a CSV row to a dictonary of features and a prediction\"\"\"\n",
    "        parsed_line = tf.decode_csv(line, csv_defaults)\n",
    "        prediction = parsed_line[-1]  # Second element is the Sales\n",
    "        del parsed_line[-1]  # Delete it\n",
    "        features = parsed_line\n",
    "        return dict(zip(feature_names, features)), prediction\n",
    "\n",
    "    dataset = (tf.data.TextLineDataset(file_path)\n",
    "               .skip(1)  # Skip header row\n",
    "               .map(decode_csv))\n",
    "    dataset = dataset.repeat(repeat_count)  # Repeats dataset this # times\n",
    "    dataset = dataset.shuffle(buffer_size=256)\n",
    "    dataset = dataset.batch(BATCH_SIZE)\n",
    "    \n",
    "    iterator = dataset.make_one_shot_iterator()\n",
    "    \n",
    "    return iterator.get_next()\n",
    "\n",
    "def input_fn_predict(file_path):\n",
    "    def decode_csv(line):\n",
    "        \"\"\"Convert a CSV row to a dictonary of features and a label\"\"\"\n",
    "        parsed_line = tf.decode_csv(line, csv_defaults)\n",
    "        del parsed_line[-1]  # Delete it\n",
    "        features = parsed_line\n",
    "        return dict(zip(feature_names, features))\n",
    "\n",
    "    dataset = (tf.data.TextLineDataset(file_path)\n",
    "               .skip(1)  # Skip header row\n",
    "               .map(decode_csv))\n",
    "    dataset = dataset.batch(BATCH_SIZE)\n",
    "    \n",
    "    iterator = dataset.make_one_shot_iterator()\n",
    "    \n",
    "    return iterator.get_next()"
   ]
  },
  {
   "cell_type": "markdown",
   "metadata": {},
   "source": [
    "Let's now create our features columns as described in the data analysis\n",
    "Since a DNN only accept Dense columns, we will wrap our Categorical columns into indicator or embedding columns. The embeddings enables us to reduce the dimensinality of our inputs by learning progressively correlation among them. This is especially useful for Stores."
   ]
  },
  {
   "cell_type": "code",
   "execution_count": 5,
   "metadata": {},
   "outputs": [],
   "source": [
    "days = df_train['Day'].unique().tolist()\n",
    "dows = df_train['DayOfWeek'].unique().tolist()\n",
    "hours = df_train['Hour'].unique().tolist()\n",
    "devices = df_train['device'].unique().tolist()\n",
    "actived = df_train['activated'].unique().tolist()\n",
    "\n",
    "feature_columns = [\n",
    "    tf.feature_column.embedding_column(\n",
    "        tf.feature_column.categorical_column_with_vocabulary_list(\n",
    "            key=\"Day\", \n",
    "            vocabulary_list=days),\n",
    "        7\n",
    "    ),\n",
    "    tf.feature_column.embedding_column(\n",
    "        tf.feature_column.categorical_column_with_vocabulary_list(\n",
    "            key=\"DayOfWeek\", \n",
    "            vocabulary_list=dows),\n",
    "        5\n",
    "    ),\n",
    "    tf.feature_column.embedding_column(\n",
    "        tf.feature_column.categorical_column_with_vocabulary_list(\n",
    "            key=\"Hour\", \n",
    "            vocabulary_list=hours),\n",
    "        4\n",
    "    ),\n",
    "    tf.feature_column.embedding_column(\n",
    "        tf.feature_column.categorical_column_with_vocabulary_list(\n",
    "            key=\"device\", \n",
    "            vocabulary_list=devices),\n",
    "        3\n",
    "    )\n",
    "]"
   ]
  },
  {
   "cell_type": "code",
   "execution_count": null,
   "metadata": {},
   "outputs": [],
   "source": []
  },
  {
   "cell_type": "code",
   "execution_count": 6,
   "metadata": {},
   "outputs": [
    {
     "name": "stdout",
     "output_type": "stream",
     "text": [
      "INFO:tensorflow:Using default config.\n",
      "INFO:tensorflow:Using config: {'_evaluation_master': '', '_is_chief': True, '_model_dir': 'models', '_master': '', '_num_worker_replicas': 1, '_save_checkpoints_steps': None, '_log_step_count_steps': 100, '_save_checkpoints_secs': 600, '_save_summary_steps': 100, '_service': None, '_session_config': None, '_cluster_spec': <tensorflow.python.training.server_lib.ClusterSpec object at 0x0000023DBAA43CF8>, '_keep_checkpoint_max': 5, '_task_id': 0, '_task_type': 'worker', '_global_id_in_cluster': 0, '_keep_checkpoint_every_n_hours': 10000, '_tf_random_seed': None, '_num_ps_replicas': 0}\n"
     ]
    }
   ],
   "source": [
    "predictor = tf.estimator.DNNClassifier(\n",
    "    feature_columns=feature_columns,\n",
    "    hidden_units=[128, 32],\n",
    "    dropout=0.05,\n",
    "    optimizer=tf.train.FtrlOptimizer(\n",
    "        learning_rate=0.001,\n",
    "#         l1_regularization_strength=0.01,\n",
    "#         l2_regularization_strength=0.001\n",
    "    ),\n",
    "    label_vocabulary=['True', 'False'],\n",
    "    model_dir='models'\n",
    ")"
   ]
  },
  {
   "cell_type": "code",
   "execution_count": 13,
   "metadata": {},
   "outputs": [
    {
     "name": "stdout",
     "output_type": "stream",
     "text": [
      "INFO:tensorflow:Calling model_fn.\n",
      "INFO:tensorflow:Done calling model_fn.\n",
      "INFO:tensorflow:Create CheckpointSaverHook.\n",
      "INFO:tensorflow:Graph was finalized.\n",
      "INFO:tensorflow:Restoring parameters from models\\model.ckpt-20476\n",
      "INFO:tensorflow:Running local_init_op.\n",
      "INFO:tensorflow:Done running local_init_op.\n",
      "INFO:tensorflow:Saving checkpoints for 20477 into models\\model.ckpt.\n",
      "INFO:tensorflow:loss = 41.712067, step = 20477\n",
      "INFO:tensorflow:global_step/sec: 165.67\n",
      "INFO:tensorflow:loss = 42.929314, step = 20577 (0.606 sec)\n",
      "INFO:tensorflow:global_step/sec: 226.156\n",
      "INFO:tensorflow:loss = 53.10225, step = 20677 (0.442 sec)\n",
      "INFO:tensorflow:global_step/sec: 233.023\n",
      "INFO:tensorflow:loss = 48.03665, step = 20777 (0.429 sec)\n",
      "INFO:tensorflow:global_step/sec: 229.802\n",
      "INFO:tensorflow:loss = 37.464706, step = 20877 (0.435 sec)\n",
      "INFO:tensorflow:global_step/sec: 231.401\n",
      "INFO:tensorflow:loss = 51.721718, step = 20977 (0.431 sec)\n",
      "INFO:tensorflow:global_step/sec: 230.866\n",
      "INFO:tensorflow:loss = 44.93939, step = 21077 (0.434 sec)\n",
      "INFO:tensorflow:global_step/sec: 223.118\n",
      "INFO:tensorflow:loss = 47.46158, step = 21177 (0.448 sec)\n",
      "INFO:tensorflow:global_step/sec: 230.865\n",
      "INFO:tensorflow:loss = 40.008293, step = 21277 (0.432 sec)\n",
      "INFO:tensorflow:global_step/sec: 228.748\n",
      "INFO:tensorflow:loss = 33.38181, step = 21377 (0.438 sec)\n",
      "INFO:tensorflow:global_step/sec: 227.178\n",
      "INFO:tensorflow:loss = 56.835796, step = 21477 (0.440 sec)\n",
      "INFO:tensorflow:global_step/sec: 226.675\n",
      "INFO:tensorflow:loss = 36.9794, step = 21577 (0.441 sec)\n",
      "INFO:tensorflow:global_step/sec: 231.939\n",
      "INFO:tensorflow:loss = 33.836296, step = 21677 (0.431 sec)\n",
      "INFO:tensorflow:global_step/sec: 226.668\n",
      "INFO:tensorflow:loss = 36.716072, step = 21777 (0.441 sec)\n",
      "INFO:tensorflow:global_step/sec: 230.866\n",
      "INFO:tensorflow:loss = 37.944862, step = 21877 (0.432 sec)\n",
      "INFO:tensorflow:global_step/sec: 221.139\n",
      "INFO:tensorflow:loss = 24.542107, step = 21977 (0.452 sec)\n",
      "INFO:tensorflow:global_step/sec: 231.939\n",
      "INFO:tensorflow:loss = 43.928223, step = 22077 (0.431 sec)\n",
      "INFO:tensorflow:global_step/sec: 230.865\n",
      "INFO:tensorflow:loss = 45.550716, step = 22177 (0.433 sec)\n",
      "INFO:tensorflow:global_step/sec: 228.224\n",
      "INFO:tensorflow:loss = 63.66124, step = 22277 (0.438 sec)\n",
      "INFO:tensorflow:global_step/sec: 234.117\n",
      "INFO:tensorflow:loss = 40.375122, step = 22377 (0.427 sec)\n",
      "INFO:tensorflow:global_step/sec: 224.121\n",
      "INFO:tensorflow:loss = 34.129124, step = 22477 (0.446 sec)\n",
      "INFO:tensorflow:global_step/sec: 233.563\n",
      "INFO:tensorflow:loss = 40.136715, step = 22577 (0.429 sec)\n",
      "INFO:tensorflow:global_step/sec: 225.138\n",
      "INFO:tensorflow:loss = 42.290894, step = 22677 (0.444 sec)\n",
      "INFO:tensorflow:global_step/sec: 231.401\n",
      "INFO:tensorflow:loss = 25.800974, step = 22777 (0.432 sec)\n",
      "INFO:tensorflow:global_step/sec: 232.48\n",
      "INFO:tensorflow:loss = 47.70232, step = 22877 (0.430 sec)\n",
      "INFO:tensorflow:global_step/sec: 224.121\n",
      "INFO:tensorflow:loss = 43.79552, step = 22977 (0.446 sec)\n",
      "INFO:tensorflow:global_step/sec: 229.802\n",
      "INFO:tensorflow:loss = 29.013294, step = 23077 (0.435 sec)\n",
      "INFO:tensorflow:global_step/sec: 228.224\n",
      "INFO:tensorflow:loss = 42.278793, step = 23177 (0.438 sec)\n",
      "INFO:tensorflow:global_step/sec: 230.333\n",
      "INFO:tensorflow:loss = 46.578636, step = 23277 (0.433 sec)\n",
      "INFO:tensorflow:global_step/sec: 227.703\n",
      "INFO:tensorflow:loss = 48.46687, step = 23377 (0.439 sec)\n",
      "INFO:tensorflow:global_step/sec: 231.401\n",
      "INFO:tensorflow:loss = 45.778503, step = 23477 (0.432 sec)\n",
      "INFO:tensorflow:global_step/sec: 230.332\n",
      "INFO:tensorflow:loss = 46.798866, step = 23577 (0.435 sec)\n",
      "INFO:tensorflow:global_step/sec: 229.274\n",
      "INFO:tensorflow:loss = 36.502556, step = 23677 (0.435 sec)\n",
      "INFO:tensorflow:global_step/sec: 232.48\n",
      "INFO:tensorflow:loss = 34.773438, step = 23777 (0.431 sec)\n",
      "INFO:tensorflow:global_step/sec: 223.118\n",
      "INFO:tensorflow:loss = 39.862843, step = 23877 (0.447 sec)\n",
      "INFO:tensorflow:global_step/sec: 231.94\n",
      "INFO:tensorflow:loss = 25.431078, step = 23977 (0.431 sec)\n",
      "INFO:tensorflow:global_step/sec: 224.121\n",
      "INFO:tensorflow:loss = 41.986008, step = 24077 (0.446 sec)\n",
      "INFO:tensorflow:global_step/sec: 231.939\n",
      "INFO:tensorflow:loss = 36.009636, step = 24177 (0.431 sec)\n",
      "INFO:tensorflow:global_step/sec: 227.184\n",
      "INFO:tensorflow:loss = 39.783607, step = 24277 (0.440 sec)\n",
      "INFO:tensorflow:global_step/sec: 230.865\n",
      "INFO:tensorflow:loss = 45.90188, step = 24377 (0.433 sec)\n",
      "INFO:tensorflow:global_step/sec: 231.94\n",
      "INFO:tensorflow:loss = 37.178856, step = 24477 (0.432 sec)\n",
      "INFO:tensorflow:global_step/sec: 224.121\n",
      "INFO:tensorflow:loss = 40.784237, step = 24577 (0.446 sec)\n",
      "INFO:tensorflow:global_step/sec: 233.569\n",
      "INFO:tensorflow:loss = 43.051033, step = 24677 (0.427 sec)\n",
      "INFO:tensorflow:global_step/sec: 230.865\n",
      "INFO:tensorflow:loss = 35.479977, step = 24777 (0.434 sec)\n",
      "INFO:tensorflow:global_step/sec: 231.939\n",
      "INFO:tensorflow:loss = 32.10207, step = 24877 (0.430 sec)\n",
      "INFO:tensorflow:global_step/sec: 227.703\n",
      "INFO:tensorflow:loss = 27.608252, step = 24977 (0.440 sec)\n",
      "INFO:tensorflow:global_step/sec: 229.801\n",
      "INFO:tensorflow:loss = 30.701954, step = 25077 (0.434 sec)\n",
      "INFO:tensorflow:global_step/sec: 231.401\n",
      "INFO:tensorflow:loss = 41.892666, step = 25177 (0.432 sec)\n",
      "INFO:tensorflow:global_step/sec: 225.13\n",
      "INFO:tensorflow:loss = 44.282494, step = 25277 (0.445 sec)\n",
      "INFO:tensorflow:global_step/sec: 230.335\n",
      "INFO:tensorflow:loss = 33.950493, step = 25377 (0.434 sec)\n",
      "INFO:tensorflow:global_step/sec: 226.154\n",
      "INFO:tensorflow:loss = 48.448875, step = 25477 (0.442 sec)\n",
      "INFO:tensorflow:global_step/sec: 232.48\n",
      "INFO:tensorflow:loss = 44.144653, step = 25577 (0.429 sec)\n",
      "INFO:tensorflow:global_step/sec: 231.401\n",
      "INFO:tensorflow:loss = 21.85926, step = 25677 (0.433 sec)\n",
      "INFO:tensorflow:global_step/sec: 230.332\n",
      "INFO:tensorflow:loss = 36.30061, step = 25777 (0.433 sec)\n",
      "INFO:tensorflow:global_step/sec: 229.802\n",
      "INFO:tensorflow:loss = 50.44036, step = 25877 (0.436 sec)\n",
      "INFO:tensorflow:global_step/sec: 230.865\n",
      "INFO:tensorflow:loss = 32.87933, step = 25977 (0.433 sec)\n",
      "INFO:tensorflow:global_step/sec: 231.399\n",
      "INFO:tensorflow:loss = 23.754143, step = 26077 (0.431 sec)\n",
      "INFO:tensorflow:global_step/sec: 229.273\n",
      "INFO:tensorflow:loss = 28.655207, step = 26177 (0.436 sec)\n",
      "INFO:tensorflow:global_step/sec: 231.404\n",
      "INFO:tensorflow:loss = 27.266176, step = 26277 (0.433 sec)\n",
      "INFO:tensorflow:global_step/sec: 228.748\n",
      "INFO:tensorflow:loss = 36.405426, step = 26377 (0.437 sec)\n",
      "INFO:tensorflow:global_step/sec: 234.117\n",
      "INFO:tensorflow:loss = 36.10996, step = 26477 (0.427 sec)\n",
      "INFO:tensorflow:global_step/sec: 229.273\n",
      "INFO:tensorflow:loss = 34.499023, step = 26577 (0.435 sec)\n",
      "INFO:tensorflow:global_step/sec: 225.133\n",
      "INFO:tensorflow:loss = 37.706467, step = 26677 (0.444 sec)\n",
      "INFO:tensorflow:global_step/sec: 228.224\n",
      "INFO:tensorflow:loss = 40.99924, step = 26777 (0.438 sec)\n",
      "INFO:tensorflow:global_step/sec: 222.62\n",
      "INFO:tensorflow:loss = 46.59217, step = 26877 (0.449 sec)\n",
      "INFO:tensorflow:global_step/sec: 228.224\n",
      "INFO:tensorflow:loss = 49.62307, step = 26977 (0.439 sec)\n",
      "INFO:tensorflow:global_step/sec: 226.668\n",
      "INFO:tensorflow:loss = 31.113033, step = 27077 (0.440 sec)\n",
      "INFO:tensorflow:global_step/sec: 231.401\n",
      "INFO:tensorflow:loss = 42.162075, step = 27177 (0.432 sec)\n",
      "INFO:tensorflow:global_step/sec: 225.642\n",
      "INFO:tensorflow:loss = 35.536858, step = 27277 (0.444 sec)\n",
      "INFO:tensorflow:global_step/sec: 226.154\n",
      "INFO:tensorflow:loss = 33.07573, step = 27377 (0.441 sec)\n",
      "INFO:tensorflow:global_step/sec: 215.875\n",
      "INFO:tensorflow:loss = 44.462128, step = 27477 (0.464 sec)\n",
      "INFO:tensorflow:global_step/sec: 228.224\n",
      "INFO:tensorflow:loss = 49.442623, step = 27577 (0.438 sec)\n",
      "INFO:tensorflow:global_step/sec: 228.748\n",
      "INFO:tensorflow:loss = 38.276722, step = 27677 (0.436 sec)\n",
      "INFO:tensorflow:global_step/sec: 225.642\n",
      "INFO:tensorflow:loss = 25.005428, step = 27777 (0.443 sec)\n",
      "INFO:tensorflow:global_step/sec: 230.332\n",
      "INFO:tensorflow:loss = 32.488533, step = 27877 (0.434 sec)\n",
      "INFO:tensorflow:global_step/sec: 226.154\n",
      "INFO:tensorflow:loss = 54.1949, step = 27977 (0.443 sec)\n",
      "INFO:tensorflow:global_step/sec: 231.939\n",
      "INFO:tensorflow:loss = 45.87653, step = 28077 (0.430 sec)\n",
      "INFO:tensorflow:global_step/sec: 230.866\n",
      "INFO:tensorflow:loss = 30.51428, step = 28177 (0.434 sec)\n",
      "INFO:tensorflow:global_step/sec: 229.801\n",
      "INFO:tensorflow:loss = 21.718933, step = 28277 (0.434 sec)\n",
      "INFO:tensorflow:global_step/sec: 230.333\n"
     ]
    },
    {
     "name": "stdout",
     "output_type": "stream",
     "text": [
      "INFO:tensorflow:loss = 38.085976, step = 28377 (0.435 sec)\n",
      "INFO:tensorflow:global_step/sec: 228.748\n",
      "INFO:tensorflow:loss = 33.23069, step = 28477 (0.436 sec)\n",
      "INFO:tensorflow:global_step/sec: 227.185\n",
      "INFO:tensorflow:loss = 32.874474, step = 28577 (0.441 sec)\n",
      "INFO:tensorflow:global_step/sec: 225.13\n",
      "INFO:tensorflow:loss = 47.2688, step = 28677 (0.443 sec)\n",
      "INFO:tensorflow:global_step/sec: 233.572\n",
      "INFO:tensorflow:loss = 37.33864, step = 28777 (0.428 sec)\n",
      "INFO:tensorflow:global_step/sec: 231.401\n",
      "INFO:tensorflow:loss = 32.833275, step = 28877 (0.432 sec)\n",
      "INFO:tensorflow:global_step/sec: 227.703\n",
      "INFO:tensorflow:loss = 48.29333, step = 28977 (0.439 sec)\n",
      "INFO:tensorflow:global_step/sec: 231.401\n",
      "INFO:tensorflow:loss = 43.370262, step = 29077 (0.433 sec)\n",
      "INFO:tensorflow:global_step/sec: 230.865\n",
      "INFO:tensorflow:loss = 33.48403, step = 29177 (0.433 sec)\n",
      "INFO:tensorflow:global_step/sec: 224.626\n",
      "INFO:tensorflow:loss = 27.618963, step = 29277 (0.445 sec)\n",
      "INFO:tensorflow:global_step/sec: 228.747\n",
      "INFO:tensorflow:loss = 28.583246, step = 29377 (0.436 sec)\n",
      "INFO:tensorflow:global_step/sec: 233.569\n",
      "INFO:tensorflow:loss = 32.717133, step = 29477 (0.428 sec)\n",
      "INFO:tensorflow:global_step/sec: 231.401\n",
      "INFO:tensorflow:loss = 46.698536, step = 29577 (0.433 sec)\n",
      "INFO:tensorflow:global_step/sec: 231.396\n",
      "INFO:tensorflow:loss = 39.04145, step = 29677 (0.431 sec)\n",
      "INFO:tensorflow:global_step/sec: 230.871\n",
      "INFO:tensorflow:loss = 35.74539, step = 29777 (0.433 sec)\n",
      "INFO:tensorflow:global_step/sec: 232.48\n",
      "INFO:tensorflow:loss = 34.501472, step = 29877 (0.430 sec)\n",
      "INFO:tensorflow:global_step/sec: 232.48\n",
      "INFO:tensorflow:loss = 40.018066, step = 29977 (0.431 sec)\n",
      "INFO:tensorflow:global_step/sec: 230.332\n",
      "INFO:tensorflow:loss = 46.54862, step = 30077 (0.434 sec)\n",
      "INFO:tensorflow:global_step/sec: 230.332\n",
      "INFO:tensorflow:loss = 36.20861, step = 30177 (0.433 sec)\n",
      "INFO:tensorflow:global_step/sec: 227.933\n",
      "INFO:tensorflow:loss = 29.139608, step = 30277 (0.439 sec)\n",
      "INFO:tensorflow:global_step/sec: 232.479\n",
      "INFO:tensorflow:loss = 23.214766, step = 30377 (0.430 sec)\n",
      "INFO:tensorflow:global_step/sec: 212.2\n",
      "INFO:tensorflow:loss = 38.50566, step = 30477 (0.472 sec)\n",
      "INFO:tensorflow:global_step/sec: 232.48\n",
      "INFO:tensorflow:loss = 39.07013, step = 30577 (0.429 sec)\n",
      "INFO:tensorflow:global_step/sec: 229.273\n",
      "INFO:tensorflow:loss = 33.14586, step = 30677 (0.437 sec)\n",
      "INFO:tensorflow:Saving checkpoints for 30714 into models\\model.ckpt.\n",
      "INFO:tensorflow:Loss for final step: 20.748375.\n"
     ]
    },
    {
     "data": {
      "text/plain": [
       "<tensorflow.python.estimator.canned.dnn.DNNClassifier at 0x23dbaa43ba8>"
      ]
     },
     "execution_count": 13,
     "metadata": {},
     "output_type": "execute_result"
    }
   ],
   "source": [
    "predictor.train(input_fn=lambda: input_fn_train(PATH_DATA_TRAIN, repeat_count=TRAIN_EPOCHS))"
   ]
  },
  {
   "cell_type": "code",
   "execution_count": 14,
   "metadata": {},
   "outputs": [
    {
     "name": "stdout",
     "output_type": "stream",
     "text": [
      "INFO:tensorflow:Calling model_fn.\n",
      "INFO:tensorflow:Done calling model_fn.\n",
      "INFO:tensorflow:Starting evaluation at 2018-03-20-16:37:28\n",
      "INFO:tensorflow:Graph was finalized.\n",
      "INFO:tensorflow:Restoring parameters from models\\model.ckpt-30714\n",
      "INFO:tensorflow:Running local_init_op.\n",
      "INFO:tensorflow:Done running local_init_op.\n",
      "INFO:tensorflow:Finished evaluation at 2018-03-20-16:37:29\n",
      "INFO:tensorflow:Saving dict for global step 30714: accuracy = 0.90771264, accuracy_baseline = 0.80982906, auc = 0.9585533, auc_precision_recall = 0.9900411, average_loss = 0.1987712, global_step = 30714, label/mean = 0.80982906, loss = 37.567757, prediction/mean = 0.8107699\n"
     ]
    }
   ],
   "source": [
    "training_results = predictor.evaluate(input_fn=lambda: input_fn_train(PATH_DATA_TRAIN))"
   ]
  },
  {
   "cell_type": "code",
   "execution_count": 15,
   "metadata": {},
   "outputs": [
    {
     "name": "stdout",
     "output_type": "stream",
     "text": [
      "INFO:tensorflow:Calling model_fn.\n",
      "INFO:tensorflow:Done calling model_fn.\n",
      "INFO:tensorflow:Starting evaluation at 2018-03-20-16:37:30\n",
      "INFO:tensorflow:Graph was finalized.\n",
      "INFO:tensorflow:Restoring parameters from models\\model.ckpt-30714\n",
      "INFO:tensorflow:Running local_init_op.\n",
      "INFO:tensorflow:Done running local_init_op.\n",
      "INFO:tensorflow:Finished evaluation at 2018-03-20-16:37:30\n",
      "INFO:tensorflow:Saving dict for global step 30714: accuracy = 0.9131274, accuracy_baseline = 0.8108108, auc = 0.9580418, auc_precision_recall = 0.98986435, average_loss = 0.20340101, global_step = 30714, label/mean = 0.8108108, loss = 35.120575, prediction/mean = 0.80899066\n"
     ]
    }
   ],
   "source": [
    "test_results = predictor.evaluate(input_fn=lambda: input_fn_train(PATH_DATA_TEST))"
   ]
  },
  {
   "cell_type": "code",
   "execution_count": null,
   "metadata": {},
   "outputs": [],
   "source": []
  },
  {
   "cell_type": "code",
   "execution_count": 16,
   "metadata": {},
   "outputs": [
    {
     "name": "stdout",
     "output_type": "stream",
     "text": [
      "INFO:tensorflow:Calling model_fn.\n",
      "INFO:tensorflow:Done calling model_fn.\n",
      "INFO:tensorflow:Graph was finalized.\n",
      "INFO:tensorflow:Restoring parameters from models\\model.ckpt-30714\n",
      "INFO:tensorflow:Running local_init_op.\n",
      "INFO:tensorflow:Done running local_init_op.\n"
     ]
    }
   ],
   "source": [
    "test_results = predictor.predict(input_fn=lambda: input_fn_predict(PATH_DATA_TEST))\n",
    "activateds = []\n",
    "for idx, prediction in enumerate(test_results):\n",
    "    activateds.append(prediction['classes'][0].decode('utf-8'))\n",
    "df_test['predicted'] = activateds"
   ]
  },
  {
   "cell_type": "code",
   "execution_count": null,
   "metadata": {},
   "outputs": [],
   "source": []
  },
  {
   "cell_type": "code",
   "execution_count": 17,
   "metadata": {},
   "outputs": [
    {
     "data": {
      "text/html": [
       "<div>\n",
       "<style scoped>\n",
       "    .dataframe tbody tr th:only-of-type {\n",
       "        vertical-align: middle;\n",
       "    }\n",
       "\n",
       "    .dataframe tbody tr th {\n",
       "        vertical-align: top;\n",
       "    }\n",
       "\n",
       "    .dataframe thead th {\n",
       "        text-align: right;\n",
       "    }\n",
       "</style>\n",
       "<table border=\"1\" class=\"dataframe\">\n",
       "  <thead>\n",
       "    <tr style=\"text-align: right;\">\n",
       "      <th></th>\n",
       "      <th>Day</th>\n",
       "      <th>DayOfWeek</th>\n",
       "      <th>Hour</th>\n",
       "      <th>device</th>\n",
       "      <th>activated</th>\n",
       "      <th>predicted</th>\n",
       "    </tr>\n",
       "  </thead>\n",
       "  <tbody>\n",
       "    <tr>\n",
       "      <th>0</th>\n",
       "      <td>17</td>\n",
       "      <td>6</td>\n",
       "      <td>7</td>\n",
       "      <td>device_6</td>\n",
       "      <td>False</td>\n",
       "      <td>False</td>\n",
       "    </tr>\n",
       "    <tr>\n",
       "      <th>1</th>\n",
       "      <td>30</td>\n",
       "      <td>5</td>\n",
       "      <td>12</td>\n",
       "      <td>device_1</td>\n",
       "      <td>False</td>\n",
       "      <td>False</td>\n",
       "    </tr>\n",
       "    <tr>\n",
       "      <th>2</th>\n",
       "      <td>7</td>\n",
       "      <td>3</td>\n",
       "      <td>11</td>\n",
       "      <td>device_4</td>\n",
       "      <td>True</td>\n",
       "      <td>True</td>\n",
       "    </tr>\n",
       "    <tr>\n",
       "      <th>3</th>\n",
       "      <td>24</td>\n",
       "      <td>6</td>\n",
       "      <td>8</td>\n",
       "      <td>device_3</td>\n",
       "      <td>False</td>\n",
       "      <td>False</td>\n",
       "    </tr>\n",
       "    <tr>\n",
       "      <th>4</th>\n",
       "      <td>9</td>\n",
       "      <td>1</td>\n",
       "      <td>19</td>\n",
       "      <td>device_5</td>\n",
       "      <td>False</td>\n",
       "      <td>False</td>\n",
       "    </tr>\n",
       "  </tbody>\n",
       "</table>\n",
       "</div>"
      ],
      "text/plain": [
       "  Day DayOfWeek Hour    device activated predicted\n",
       "0  17         6    7  device_6     False     False\n",
       "1  30         5   12  device_1     False     False\n",
       "2   7         3   11  device_4      True      True\n",
       "3  24         6    8  device_3     False     False\n",
       "4   9         1   19  device_5     False     False"
      ]
     },
     "execution_count": 17,
     "metadata": {},
     "output_type": "execute_result"
    }
   ],
   "source": [
    "df_test.head()"
   ]
  },
  {
   "cell_type": "code",
   "execution_count": null,
   "metadata": {},
   "outputs": [],
   "source": []
  },
  {
   "cell_type": "code",
   "execution_count": 18,
   "metadata": {},
   "outputs": [],
   "source": [
    "df_test.to_csv('data/processed/pred.csv', index=False)"
   ]
  },
  {
   "cell_type": "code",
   "execution_count": 31,
   "metadata": {},
   "outputs": [
    {
     "ename": "AttributeError",
     "evalue": "'DatetimeIndex' object has no attribute 'head'",
     "output_type": "error",
     "traceback": [
      "\u001b[1;31m---------------------------------------------------------------------------\u001b[0m",
      "\u001b[1;31mAttributeError\u001b[0m                            Traceback (most recent call last)",
      "\u001b[1;32m<ipython-input-31-53ade933098d>\u001b[0m in \u001b[0;36m<module>\u001b[1;34m()\u001b[0m\n\u001b[1;32m----> 1\u001b[1;33m \u001b[0minput\u001b[0m\u001b[1;33m.\u001b[0m\u001b[0mhead\u001b[0m\u001b[1;33m(\u001b[0m\u001b[1;33m)\u001b[0m\u001b[1;33m\u001b[0m\u001b[0m\n\u001b[0m",
      "\u001b[1;31mAttributeError\u001b[0m: 'DatetimeIndex' object has no attribute 'head'"
     ]
    }
   ],
   "source": []
  },
  {
   "cell_type": "code",
   "execution_count": 90,
   "metadata": {},
   "outputs": [],
   "source": []
  },
  {
   "cell_type": "code",
   "execution_count": null,
   "metadata": {},
   "outputs": [],
   "source": []
  },
  {
   "cell_type": "code",
   "execution_count": 92,
   "metadata": {},
   "outputs": [],
   "source": []
  },
  {
   "cell_type": "code",
   "execution_count": 93,
   "metadata": {},
   "outputs": [],
   "source": []
  },
  {
   "cell_type": "code",
   "execution_count": null,
   "metadata": {},
   "outputs": [],
   "source": []
  },
  {
   "cell_type": "code",
   "execution_count": null,
   "metadata": {},
   "outputs": [],
   "source": []
  }
 ],
 "metadata": {
  "kernelspec": {
   "display_name": "Python 3",
   "language": "python",
   "name": "python3"
  },
  "language_info": {
   "codemirror_mode": {
    "name": "ipython",
    "version": 3
   },
   "file_extension": ".py",
   "mimetype": "text/x-python",
   "name": "python",
   "nbconvert_exporter": "python",
   "pygments_lexer": "ipython3",
   "version": "3.5.2"
  }
 },
 "nbformat": 4,
 "nbformat_minor": 2
}
